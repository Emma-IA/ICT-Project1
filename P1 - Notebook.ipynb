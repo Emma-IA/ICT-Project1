{
 "cells": [
  {
   "cell_type": "markdown",
   "metadata": {
    "deletable": false,
    "editable": false
   },
   "source": [
    "# Project 1 - Information measures\n",
    "\n",
    "The goal of this first project is to get accustomed to the information and uncertainty measures. We ask you to write a brief report (pdf format) collecting your answers to the different questions. All codes must be written in Python inside this Jupyter Notebook. No other code file will be accepted. Note that you can not change the content of locked cells or import any extra Python library than the ones already imported (numpy and pandas)."
   ]
  },
  {
   "cell_type": "markdown",
   "metadata": {
    "deletable": false,
    "editable": false
   },
   "source": [
    "## Implementation\n",
    "\n",
    "In this project, you will need to use information measures to answer several questions. Therefore, in this first part, you are asked to write several functions that implement some of the main measures seen in the first theoretical lectures. Remember that you need to fill in this Jupyter Notebook to answer these questions. Pay particular attention to the required output format of each function."
   ]
  },
  {
   "cell_type": "code",
   "execution_count": 1,
   "metadata": {
    "deletable": false,
    "editable": false
   },
   "outputs": [],
   "source": [
    "# [Locked Cell] You can not import any extra Python library in this Notebook.\n",
    "import numpy as np\n",
    "import pandas as pd"
   ]
  },
  {
   "cell_type": "markdown",
   "metadata": {
    "deletable": false,
    "editable": false
   },
   "source": [
    "### Question 1\n",
    "\n",
    "Write a function entropy that computes the entropy $\\mathcal{H(X)}$ of a random variable $\\mathcal{X}$ from its probability distribution $P_\\mathcal{X} = (p_1, p_2, . . . , p_n)$. Give the mathematical formula that you are using and explain the key parts of your implementation. Intuitively, what is measured by the entropy?"
   ]
  },
  {
   "cell_type": "code",
   "execution_count": 2,
   "metadata": {},
   "outputs": [
    {
     "name": "stdout",
     "output_type": "stream",
     "text": [
      "1.0420929660787335\n"
     ]
    }
   ],
   "source": [
    "from math import log\n",
    "def entropy(Px):\n",
    "    \"\"\"\n",
    "    Computes the entropy from the marginal probability distribution. \n",
    "    Arguments:\n",
    "    ----------\n",
    "    - Px :  Marginal probability distribution of the random \n",
    "            variable X in a numpy array where Px[i]=P(X=i)\n",
    "    Return:\n",
    "    -------\n",
    "    - The entropy of X (H(X)) as a number (integer, float or double).\n",
    "    \"\"\"    \n",
    "    n=len(Px)\n",
    "    H=0\n",
    "    for i in range(n):\n",
    "        H+=-Px[i]*log(Px[i])\n",
    "    return H\n",
    "\n",
    "print (entropy([0.1,0.2,0.3,0.04]))"
   ]
  },
  {
   "cell_type": "markdown",
   "metadata": {
    "deletable": false,
    "editable": false
   },
   "source": [
    "### Question 2\n",
    "\n",
    "Write a function joint_entropy that computes the joint entropy $\\mathcal{H(X,Y)}$ of two discrete random variables $\\mathcal{X}$ and $\\mathcal{Y}$ from the joint probability distribution $P_\\mathcal{X,Y}$. Give the mathematical formula that you are using and explain the key parts of your implementation. Compare the entropy and joint_entropy functions (and their corresponding formulas), what do you notice?"
   ]
  },
  {
   "cell_type": "code",
   "execution_count": 3,
   "metadata": {},
   "outputs": [
    {
     "name": "stdout",
     "output_type": "stream",
     "text": [
      "-9.36426245424844\n"
     ]
    }
   ],
   "source": [
    "def joint_entropy(Pxy):\n",
    "    \n",
    "    (m,n)=np.shape(Pxy)\n",
    "    H=0\n",
    "    for i in range (m):\n",
    "        for j in range (n):\n",
    "            if Pxy[i][j]>0:\n",
    "                H+=-Pxy[i][j]*log(Pxy[i][j])\n",
    "    return H\n",
    "            \n",
    "\"\"\"def joint_entropy2(Pxy):\n",
    "    \n",
    "    (m,n)=np.shape(Pxy)\n",
    "    H=0\n",
    "    for i in range (m):\n",
    "        H+=entropy(Pxy[i])\n",
    "    return H\"\"\"    \n",
    "\n",
    "print (joint_entropy([[1,2,3],[1,2,3]]))\n",
    "    "
   ]
  },
  {
   "cell_type": "markdown",
   "metadata": {
    "deletable": false,
    "editable": false
   },
   "source": [
    "### Question 3\n",
    "\n",
    "Write a function conditional_entropy that computes the conditional entropy $\\mathcal{H(X|Y)}$ of a discrete random variable $\\mathcal{X}$ given another discrete random variable $\\mathcal{Y}$ from the joint probability distribution $P_\\mathcal{X,Y}$. Give the mathematical formula that you are using and explain the key parts of your implementation. Describe an equivalent way of computing that quantity."
   ]
  },
  {
   "cell_type": "code",
   "execution_count": 4,
   "metadata": {},
   "outputs": [
    {
     "data": {
      "text/plain": [
       "8.317766166719345"
      ]
     },
     "execution_count": 4,
     "metadata": {},
     "output_type": "execute_result"
    }
   ],
   "source": [
    "def conditional_entropy(Pxy):\n",
    "    m,n=np.shape(Pxy)\n",
    "    Py=np.zeros(n)\n",
    "    for i in range (n):\n",
    "        for j in range (m):\n",
    "            Py[i]+=Pxy[j][i]\n",
    "    return joint_entropy(Pxy) - entropy(Py)\n",
    "\n",
    "conditional_entropy([[1,2,3],[1,2,3]])\n"
   ]
  },
  {
   "cell_type": "markdown",
   "metadata": {
    "deletable": false,
    "editable": false
   },
   "source": [
    "### Question 4\n",
    "\n",
    "Write a function mutual_information that computes the mutual information $\\mathcal{I(X;Y)}$ between two discrete random variables $\\mathcal{X}$ and $\\mathcal{Y}$ from the joint probability distribution $P_\\mathcal{X,Y}$ . Give the mathematical formula that you are using and explain the key parts of your implementation. What can you deduce from the mutual information $\\mathcal{I(X;Y)}$ on the relationship between $\\mathcal{X}$ and $\\mathcal{Y}$? Discuss."
   ]
  },
  {
   "cell_type": "code",
   "execution_count": 5,
   "metadata": {},
   "outputs": [
    {
     "data": {
      "text/plain": [
       "0.032189300825765876"
      ]
     },
     "execution_count": 5,
     "metadata": {},
     "output_type": "execute_result"
    }
   ],
   "source": [
    "def mutual_information(Pxy):\n",
    "    \n",
    "    m,n=np.shape(Pxy)\n",
    "    Px=np.zeros(m)\n",
    "    for i in range(m):\n",
    "        Px[i]=sum(Pxy[i])\n",
    "    return entropy(Px)-conditional_entropy(Pxy)\n",
    "\n",
    "mutual_information([[0.1,0.2,0.1],[0.1,0.2,0.3]])\n"
   ]
  },
  {
   "cell_type": "markdown",
   "metadata": {
    "deletable": false,
    "editable": false
   },
   "source": [
    "### Question 5\n",
    "\n",
    "Let $\\mathcal{X}$, $\\mathcal{Y}$ and $\\mathcal{Z}$ be three discrete random variables. Write the functions cond_joint_entropy and cond_mutual_information that respectively compute $\\mathcal{H(X,Y|Z)}$ and $\\mathcal{I(X;Y|Z)}$ of two discrete random variable $\\mathcal{X}$, $\\mathcal{Y}$ given another discrete random variable $\\mathcal{Z}$ from their joint probability distribution $P_\\mathcal{X,Y,Z}$. Give the mathematical formulas that you are using and explain the key parts of your implementation.\n",
    "Suggestion: Observe the mathematical definitions of these quantities and think how you could derive them from the joint entropy and the mutual information."
   ]
  },
  {
   "cell_type": "code",
   "execution_count": 6,
   "metadata": {},
   "outputs": [
    {
     "data": {
      "text/plain": [
       "82.05632796747817"
      ]
     },
     "execution_count": 6,
     "metadata": {},
     "output_type": "execute_result"
    }
   ],
   "source": [
    "def cond_joint_entropy(Pxyz):\n",
    "    \n",
    "    m,n,o=np.shape(Pxyz)\n",
    "    Pz=np.zeros(o)\n",
    "    H=0\n",
    "    for k in range (o):\n",
    "        for i in range (m):\n",
    "            for j in range (n):\n",
    "                Pz[k]+=Pxyz[i][j][k] \n",
    "                H+=-Pxyz[i][j][k]*log(Pxyz[i][j][k])\n",
    "    return H/3 - entropy(Pz)\n",
    "cond_joint_entropy([[[1,2],[2,2],[3,3]],[[1,1],[2,6],[8,3]]])\n",
    "    "
   ]
  },
  {
   "cell_type": "code",
   "execution_count": 7,
   "metadata": {},
   "outputs": [
    {
     "data": {
      "text/plain": [
       "21.788767899280835"
      ]
     },
     "execution_count": 7,
     "metadata": {},
     "output_type": "execute_result"
    }
   ],
   "source": [
    "def cond_mutual_information(Pxyz):\n",
    "    m,n,o=np.shape(Pxyz)\n",
    "    Pz=np.zeros(o)\n",
    "    Pxz=np.zeros((m,o))\n",
    "    H=0\n",
    "    for k in range (o):\n",
    "        for i in range (m):\n",
    "            for j in range (n):\n",
    "                Pz[k]+=Pxyz[i][j][k]\n",
    "                Pxz[i][k]+=Pxyz[i][j][k]\n",
    "    return conditional_entropy(Pxz)-joint_entropy(Pxz)/entropy(Pz)\n",
    "\n",
    "cond_mutual_information([[[1,2],[2,2],[3,3]],[[1,1],[2,6],[8,3]]])"
   ]
  },
  {
   "cell_type": "code",
   "execution_count": 8,
   "metadata": {
    "deletable": false,
    "editable": false
   },
   "outputs": [],
   "source": [
    "# [Locked Cell] Evaluation of your functions by the examiner. \n",
    "# You don't have access to the evaluation, this will be done by the examiner.\n",
    "# Therefore, this cell will return nothing for the students.\n",
    "import os\n",
    "if os.path.isfile(\"private_evaluation.py\"):\n",
    "    from private_evaluation import unit_tests\n",
    "    unit_tests(entropy, joint_entropy, conditional_entropy, mutual_information, cond_joint_entropy, cond_mutual_information)"
   ]
  },
  {
   "cell_type": "markdown",
   "metadata": {
    "deletable": false,
    "editable": false
   },
   "source": [
    "## Weather forecasting\n",
    "\n",
    "You may create cells below to answer the different questions related to weather forecasting. Unlike in the first part (Implementation), you are free to define as many cells as you need below to answer the different questions. Try to be structured and clear in your code (comment it if necessary). Note that you have to answer the questions in the pdf report, including the numbers you get!"
   ]
  },
  {
   "cell_type": "code",
   "execution_count": 9,
   "metadata": {
    "scrolled": true
   },
   "outputs": [
    {
     "data": {
      "text/html": [
       "<div>\n",
       "<style scoped>\n",
       "    .dataframe tbody tr th:only-of-type {\n",
       "        vertical-align: middle;\n",
       "    }\n",
       "\n",
       "    .dataframe tbody tr th {\n",
       "        vertical-align: top;\n",
       "    }\n",
       "\n",
       "    .dataframe thead th {\n",
       "        text-align: right;\n",
       "    }\n",
       "</style>\n",
       "<table border=\"1\" class=\"dataframe\">\n",
       "  <thead>\n",
       "    <tr style=\"text-align: right;\">\n",
       "      <th></th>\n",
       "      <th>temperature</th>\n",
       "      <th>air_pressure</th>\n",
       "      <th>same_day_rain</th>\n",
       "      <th>next_day_rain</th>\n",
       "      <th>relative_humidity</th>\n",
       "      <th>wind_direction</th>\n",
       "      <th>wind_speed</th>\n",
       "      <th>cloud_height</th>\n",
       "      <th>cloud_density</th>\n",
       "      <th>month</th>\n",
       "      <th>day</th>\n",
       "      <th>daylight</th>\n",
       "      <th>lightning</th>\n",
       "      <th>air_quality</th>\n",
       "    </tr>\n",
       "  </thead>\n",
       "  <tbody>\n",
       "    <tr>\n",
       "      <th>0</th>\n",
       "      <td>cold</td>\n",
       "      <td>increasing</td>\n",
       "      <td>dry</td>\n",
       "      <td>dry</td>\n",
       "      <td>low</td>\n",
       "      <td>south</td>\n",
       "      <td>no_wind</td>\n",
       "      <td>low</td>\n",
       "      <td>low</td>\n",
       "      <td>january</td>\n",
       "      <td>tuesday</td>\n",
       "      <td>sunny</td>\n",
       "      <td>no_lightning</td>\n",
       "      <td>bad</td>\n",
       "    </tr>\n",
       "    <tr>\n",
       "      <th>1</th>\n",
       "      <td>medium</td>\n",
       "      <td>decreasing</td>\n",
       "      <td>deluge</td>\n",
       "      <td>deluge</td>\n",
       "      <td>high</td>\n",
       "      <td>north</td>\n",
       "      <td>high</td>\n",
       "      <td>high</td>\n",
       "      <td>high</td>\n",
       "      <td>september</td>\n",
       "      <td>monday</td>\n",
       "      <td>cloudy</td>\n",
       "      <td>no_lightning</td>\n",
       "      <td>medium</td>\n",
       "    </tr>\n",
       "    <tr>\n",
       "      <th>2</th>\n",
       "      <td>cold</td>\n",
       "      <td>increasing</td>\n",
       "      <td>dry</td>\n",
       "      <td>dry</td>\n",
       "      <td>high</td>\n",
       "      <td>east</td>\n",
       "      <td>high</td>\n",
       "      <td>no_cloud</td>\n",
       "      <td>no_cloud</td>\n",
       "      <td>october</td>\n",
       "      <td>sunday</td>\n",
       "      <td>sunny</td>\n",
       "      <td>no_lightning</td>\n",
       "      <td>bad</td>\n",
       "    </tr>\n",
       "    <tr>\n",
       "      <th>3</th>\n",
       "      <td>medium</td>\n",
       "      <td>increasing</td>\n",
       "      <td>dry</td>\n",
       "      <td>dry</td>\n",
       "      <td>low</td>\n",
       "      <td>west</td>\n",
       "      <td>high</td>\n",
       "      <td>high</td>\n",
       "      <td>high</td>\n",
       "      <td>january</td>\n",
       "      <td>tuesday</td>\n",
       "      <td>cloudy</td>\n",
       "      <td>no_lightning</td>\n",
       "      <td>bad</td>\n",
       "    </tr>\n",
       "    <tr>\n",
       "      <th>4</th>\n",
       "      <td>high</td>\n",
       "      <td>decreasing</td>\n",
       "      <td>deluge</td>\n",
       "      <td>deluge</td>\n",
       "      <td>high</td>\n",
       "      <td>north</td>\n",
       "      <td>high</td>\n",
       "      <td>high</td>\n",
       "      <td>high</td>\n",
       "      <td>july</td>\n",
       "      <td>monday</td>\n",
       "      <td>cloudy</td>\n",
       "      <td>low</td>\n",
       "      <td>bad</td>\n",
       "    </tr>\n",
       "    <tr>\n",
       "      <th>...</th>\n",
       "      <td>...</td>\n",
       "      <td>...</td>\n",
       "      <td>...</td>\n",
       "      <td>...</td>\n",
       "      <td>...</td>\n",
       "      <td>...</td>\n",
       "      <td>...</td>\n",
       "      <td>...</td>\n",
       "      <td>...</td>\n",
       "      <td>...</td>\n",
       "      <td>...</td>\n",
       "      <td>...</td>\n",
       "      <td>...</td>\n",
       "      <td>...</td>\n",
       "    </tr>\n",
       "    <tr>\n",
       "      <th>4995</th>\n",
       "      <td>cold</td>\n",
       "      <td>decreasing</td>\n",
       "      <td>deluge</td>\n",
       "      <td>deluge</td>\n",
       "      <td>high</td>\n",
       "      <td>north</td>\n",
       "      <td>high</td>\n",
       "      <td>high</td>\n",
       "      <td>low</td>\n",
       "      <td>february</td>\n",
       "      <td>wednesday</td>\n",
       "      <td>sunny</td>\n",
       "      <td>no_lightning</td>\n",
       "      <td>bad</td>\n",
       "    </tr>\n",
       "    <tr>\n",
       "      <th>4996</th>\n",
       "      <td>high</td>\n",
       "      <td>decreasing</td>\n",
       "      <td>drizzle</td>\n",
       "      <td>drizzle</td>\n",
       "      <td>low</td>\n",
       "      <td>north</td>\n",
       "      <td>low</td>\n",
       "      <td>high</td>\n",
       "      <td>high</td>\n",
       "      <td>july</td>\n",
       "      <td>thursday</td>\n",
       "      <td>cloudy</td>\n",
       "      <td>no_lightning</td>\n",
       "      <td>bad</td>\n",
       "    </tr>\n",
       "    <tr>\n",
       "      <th>4997</th>\n",
       "      <td>medium</td>\n",
       "      <td>increasing</td>\n",
       "      <td>dry</td>\n",
       "      <td>dry</td>\n",
       "      <td>low</td>\n",
       "      <td>east</td>\n",
       "      <td>low</td>\n",
       "      <td>high</td>\n",
       "      <td>low</td>\n",
       "      <td>december</td>\n",
       "      <td>tuesday</td>\n",
       "      <td>cloudy</td>\n",
       "      <td>no_lightning</td>\n",
       "      <td>bad</td>\n",
       "    </tr>\n",
       "    <tr>\n",
       "      <th>4998</th>\n",
       "      <td>cold</td>\n",
       "      <td>increasing</td>\n",
       "      <td>drizzle</td>\n",
       "      <td>dry</td>\n",
       "      <td>high</td>\n",
       "      <td>south</td>\n",
       "      <td>low</td>\n",
       "      <td>low</td>\n",
       "      <td>high</td>\n",
       "      <td>april</td>\n",
       "      <td>friday</td>\n",
       "      <td>cloudy</td>\n",
       "      <td>no_lightning</td>\n",
       "      <td>bad</td>\n",
       "    </tr>\n",
       "    <tr>\n",
       "      <th>4999</th>\n",
       "      <td>cold</td>\n",
       "      <td>decreasing</td>\n",
       "      <td>dry</td>\n",
       "      <td>drizzle</td>\n",
       "      <td>low</td>\n",
       "      <td>north</td>\n",
       "      <td>no_wind</td>\n",
       "      <td>no_cloud</td>\n",
       "      <td>no_cloud</td>\n",
       "      <td>may</td>\n",
       "      <td>tuesday</td>\n",
       "      <td>sunny</td>\n",
       "      <td>no_lightning</td>\n",
       "      <td>bad</td>\n",
       "    </tr>\n",
       "  </tbody>\n",
       "</table>\n",
       "<p>5000 rows × 14 columns</p>\n",
       "</div>"
      ],
      "text/plain": [
       "     temperature air_pressure same_day_rain next_day_rain relative_humidity  \\\n",
       "0           cold   increasing           dry           dry               low   \n",
       "1         medium   decreasing        deluge        deluge              high   \n",
       "2           cold   increasing           dry           dry              high   \n",
       "3         medium   increasing           dry           dry               low   \n",
       "4           high   decreasing        deluge        deluge              high   \n",
       "...          ...          ...           ...           ...               ...   \n",
       "4995        cold   decreasing        deluge        deluge              high   \n",
       "4996        high   decreasing       drizzle       drizzle               low   \n",
       "4997      medium   increasing           dry           dry               low   \n",
       "4998        cold   increasing       drizzle           dry              high   \n",
       "4999        cold   decreasing           dry       drizzle               low   \n",
       "\n",
       "     wind_direction wind_speed cloud_height cloud_density      month  \\\n",
       "0             south    no_wind          low           low    january   \n",
       "1             north       high         high          high  september   \n",
       "2              east       high     no_cloud      no_cloud    october   \n",
       "3              west       high         high          high    january   \n",
       "4             north       high         high          high       july   \n",
       "...             ...        ...          ...           ...        ...   \n",
       "4995          north       high         high           low   february   \n",
       "4996          north        low         high          high       july   \n",
       "4997           east        low         high           low   december   \n",
       "4998          south        low          low          high      april   \n",
       "4999          north    no_wind     no_cloud      no_cloud        may   \n",
       "\n",
       "            day daylight     lightning air_quality  \n",
       "0       tuesday    sunny  no_lightning         bad  \n",
       "1        monday   cloudy  no_lightning      medium  \n",
       "2        sunday    sunny  no_lightning         bad  \n",
       "3       tuesday   cloudy  no_lightning         bad  \n",
       "4        monday   cloudy           low         bad  \n",
       "...         ...      ...           ...         ...  \n",
       "4995  wednesday    sunny  no_lightning         bad  \n",
       "4996   thursday   cloudy  no_lightning         bad  \n",
       "4997    tuesday   cloudy  no_lightning         bad  \n",
       "4998     friday   cloudy  no_lightning         bad  \n",
       "4999    tuesday    sunny  no_lightning         bad  \n",
       "\n",
       "[5000 rows x 14 columns]"
      ]
     },
     "execution_count": 9,
     "metadata": {},
     "output_type": "execute_result"
    }
   ],
   "source": [
    "# Write your code here or in other cells below (you may delete this comment)\n",
    "data=pd.read_csv(\"weather_data.csv\")\n",
    "data"
   ]
  },
  {
   "cell_type": "code",
   "execution_count": 10,
   "metadata": {},
   "outputs": [
    {
     "name": "stdout",
     "output_type": "stream",
     "text": [
      "medium    2182\n",
      "cold      1850\n",
      "high       968\n",
      "Name: temperature, dtype: int64\n"
     ]
    },
    {
     "data": {
      "text/plain": [
       "{'temperature': [0.3618611453201338, 1850],\n",
       " 'air_pressure': [0.3462657381265334, 2495],\n",
       " 'same_day_rain': [0.3418824241026102, 1411],\n",
       " 'next_day_rain': [0.3661238602184059, 1535],\n",
       " 'relative_humidity': [0.3439258584466205, 2458],\n",
       " 'wind_direction': [0.35023914847131843, 1251],\n",
       " 'wind_speed': [0.3667952848664562, 1652],\n",
       " 'cloud_height': [0.3670600077364318, 1641],\n",
       " 'cloud_density': [0.3670600077364318, 1671],\n",
       " 'month': [0.21783791619843998, 444],\n",
       " 'day': [0.2842086159308873, 748],\n",
       " 'daylight': [0.33941571889664773, 2391],\n",
       " 'lightning': [0.046829112469614735, 139],\n",
       " 'air_quality': [0.0878125733376808, 239]}"
      ]
     },
     "execution_count": 10,
     "metadata": {},
     "output_type": "execute_result"
    }
   ],
   "source": [
    "#Question 6\n",
    "\n",
    "def list_features(Px):\n",
    "    list=[]\n",
    "    for w in Px:\n",
    "        if w not in list:\n",
    "            list.append(w)\n",
    "    return list\n",
    "\n",
    "def count_strings(Px): #returns proportionnality of each occurency in a column + the number of occurencies   \n",
    "    return Px.value_counts()\n",
    "\n",
    "    \n",
    "def display_entropy(data):#returns the dictionnary corresponding\n",
    "    dico_final=dict()\n",
    "    for feature in data.columns:\n",
    "        C=count_strings(data[feature])\n",
    "        P=pd.Series(C[0])/5000\n",
    "        D={feature:[entropy(P),C[1]]}\n",
    "        dico_final.update(D)\n",
    "    return dico_final\n",
    "\n",
    "print(count_strings(data[\"temperature\"]))\n",
    "display_entropy(data)"
   ]
  },
  {
   "cell_type": "code",
   "execution_count": 11,
   "metadata": {},
   "outputs": [
    {
     "name": "stdout",
     "output_type": "stream",
     "text": [
      "1.3446863110872482 2.472709732913061 1.9858350289353268 1.0873096267372395\n"
     ]
    }
   ],
   "source": [
    "#Question 7\n",
    "\n",
    "def joint_probability(data, feature1, feature2):\n",
    "    dataX=data[feature1]\n",
    "    dataY=data[feature2]\n",
    "    X=list_features(dataX)\n",
    "    Y=list_features(dataY)\n",
    "    size_x=len(X)\n",
    "    size_y=len(Y)\n",
    "    cond_list=np.zeros(size_x*size_y)\n",
    "    list=[]\n",
    "    for x in (X):\n",
    "        for y in (Y):\n",
    "            list.append((x,y))\n",
    "    for i in range (5000):\n",
    "                xi=dataX[i]\n",
    "                yi=dataY[i]\n",
    "                j=list.index((xi,yi))\n",
    "                cond_list[j]+=1\n",
    "    cond_list=cond_list/5000\n",
    "    cond_list=cond_list.reshape(size_x, size_y)\n",
    "    return cond_list\n",
    "            \n",
    "            \n",
    "P_next_air=joint_probability(data, \"next_day_rain\", \"air_pressure\")\n",
    "P_next_direction=joint_probability(data, \"next_day_rain\", \"wind_direction\")\n",
    "P_next_same=joint_probability(data, \"next_day_rain\", \"same_day_rain\")\n",
    "P_next_next=joint_probability(data, \"next_day_rain\", \"next_day_rain\")\n",
    "print(joint_entropy(P_next_air),joint_entropy(P_next_direction), joint_entropy(P_next_same), joint_entropy(P_next_next))\n"
   ]
  },
  {
   "cell_type": "code",
   "execution_count": 12,
   "metadata": {},
   "outputs": [
    {
     "name": "stdout",
     "output_type": "stream",
     "text": [
      "8.622472327657338e-05 0.3988000079144407\n"
     ]
    }
   ],
   "source": [
    "#Question 8\n",
    "\n",
    "P_humid_speed=joint_probability(data, \"relative_humidity\", \"wind_speed\")\n",
    "P_month_temp=joint_probability(data, \"month\", \"temperature\")\n",
    "print(mutual_information(P_humid_speed),mutual_information(P_month_temp))"
   ]
  },
  {
   "cell_type": "code",
   "execution_count": null,
   "metadata": {},
   "outputs": [],
   "source": []
  }
 ],
 "metadata": {
  "kernelspec": {
   "display_name": "Python 3",
   "language": "python",
   "name": "python3"
  },
  "language_info": {
   "codemirror_mode": {
    "name": "ipython",
    "version": 3
   },
   "file_extension": ".py",
   "mimetype": "text/x-python",
   "name": "python",
   "nbconvert_exporter": "python",
   "pygments_lexer": "ipython3",
   "version": "3.8.5"
  }
 },
 "nbformat": 4,
 "nbformat_minor": 4
}
